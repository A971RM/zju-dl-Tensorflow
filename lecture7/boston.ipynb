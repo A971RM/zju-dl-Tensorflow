{
 "cells": [
  {
   "cell_type": "code",
   "execution_count": null,
   "metadata": {},
   "outputs": [],
   "source": [
    "import tensorflow as tf\n",
    "import numpy as np\n",
    "import pandas as pd\n",
    "from sklearn.utils import shuffle\n",
    "import matplotlib.pyplot as plt"
   ]
  },
  {
   "cell_type": "code",
   "execution_count": null,
   "metadata": {},
   "outputs": [],
   "source": [
    "# dataframe\n",
    "df = pd.read_csv('./data/boston.csv')\n",
    "df.describe()"
   ]
  },
  {
   "cell_type": "code",
   "execution_count": null,
   "metadata": {},
   "outputs": [],
   "source": [
    "df =df.values"
   ]
  },
  {
   "cell_type": "code",
   "execution_count": null,
   "metadata": {},
   "outputs": [],
   "source": [
    "x_data = df[:,:12]\n",
    "for i in range(12):\n",
    "    x_data[:,i] = x_data[:,i] / (x_data[:,i].max() - x_data[:,i].min())\n",
    "y_data = df[:,12].reshape(-1,1)"
   ]
  },
  {
   "cell_type": "code",
   "execution_count": null,
   "metadata": {},
   "outputs": [],
   "source": [
    "x_data.shape, y_data.shape"
   ]
  },
  {
   "cell_type": "code",
   "execution_count": null,
   "metadata": {},
   "outputs": [],
   "source": [
    "train_epochs = 500\n",
    "learning_rate = 0.01\n",
    "\n",
    "x = tf.placeholder(dtype=tf.float32, shape=(None, 12), name=\"X\")\n",
    "y = tf.placeholder(dtype=tf.float32, shape=(None,  1), name=\"Y\")\n",
    "w = tf.Variable(np.random.randn(12, 1), dtype=tf.float32, name=\"W\")\n",
    "b = tf.Variable(0., dtype=tf.float32, name=\"b\")\n",
    "\n",
    "with tf.name_scope(\"model\"):\n",
    "    def model(x, w, b):\n",
    "        return tf.matmul(x, w) + b\n",
    "    pred = model(x, w, b)\n",
    "    \n",
    "with tf.name_scope(\"loss\"):\n",
    "    loss_function = tf.reduce_mean(tf.square(y-pred))\n",
    "optimizer = tf.train.GradientDescentOptimizer(learning_rate).minimize(loss_function)\n",
    "sum_loss_op = tf.summary.scalar(\"loss\", loss_function)\n",
    "merged = tf.summary.merge_all()"
   ]
  },
  {
   "cell_type": "code",
   "execution_count": null,
   "metadata": {},
   "outputs": [],
   "source": [
    "lost_list = []\n",
    "with tf.Session() as sess:\n",
    "    sess.run(tf.global_variables_initializer())\n",
    "    writer = tf.summary.FileWriter(\"./log/\", sess.graph)\n",
    "    for epoch in range(50):\n",
    "        loss_sum = 0.\n",
    "        for xs, ys in zip(x_data, y_data):\n",
    "            xs = np.reshape(xs, (-1, 12))\n",
    "            ys = np.reshape(ys, (-1, 1))\n",
    "            _, summ_str, loss = sess.run([optimizer, sum_loss_op, loss_function], feed_dict={x: xs, y: ys})\n",
    "            writer.add_summary(summ_str, epoch)\n",
    "            loss_sum += loss\n",
    "        print(epoch, \"loss: \", loss_sum / len(x_data))\n",
    "        x_data = shuffle(x_data)\n",
    "        y_data = shuffle(y_data)\n",
    "        lost_list.append(loss_sum / len(x_data))\n",
    "    \n",
    "    print(epoch, \"loss: \", loss_sum / len(x_data))\n",
    "    n = 9\n",
    "    x_test = x_data[n]\n",
    "    x_test = np.reshape(x_test, (1, -1))\n",
    "    predict = sess.run(pred, feed_dict={x: x_test})\n",
    "    \n",
    "    print(predict, \"vs \", y_data[n])"
   ]
  },
  {
   "cell_type": "code",
   "execution_count": null,
   "metadata": {},
   "outputs": [],
   "source": [
    "plt.plot(lost_list)"
   ]
  }
 ],
 "metadata": {
  "kernelspec": {
   "display_name": "Python 3",
   "language": "python",
   "name": "python3"
  },
  "language_info": {
   "codemirror_mode": {
    "name": "ipython",
    "version": 3
   },
   "file_extension": ".py",
   "mimetype": "text/x-python",
   "name": "python",
   "nbconvert_exporter": "python",
   "pygments_lexer": "ipython3",
   "version": "3.6.8"
  }
 },
 "nbformat": 4,
 "nbformat_minor": 2
}
