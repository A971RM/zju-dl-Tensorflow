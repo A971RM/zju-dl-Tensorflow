{
 "cells": [
  {
   "cell_type": "code",
   "execution_count": 2,
   "metadata": {},
   "outputs": [],
   "source": [
    "import tensorflow as tf\n",
    "import tensorflow.examples.tutorials.mnist.input_data as input_data"
   ]
  },
  {
   "cell_type": "code",
   "execution_count": 3,
   "metadata": {},
   "outputs": [
    {
     "name": "stdout",
     "output_type": "stream",
     "text": [
      "WARNING:tensorflow:From <ipython-input-3-a839aeb82f4b>:1: read_data_sets (from tensorflow.contrib.learn.python.learn.datasets.mnist) is deprecated and will be removed in a future version.\n",
      "Instructions for updating:\n",
      "Please use alternatives such as official/mnist/dataset.py from tensorflow/models.\n",
      "WARNING:tensorflow:From D:\\ProgramData\\Anaconda3\\lib\\site-packages\\tensorflow\\contrib\\learn\\python\\learn\\datasets\\mnist.py:260: maybe_download (from tensorflow.contrib.learn.python.learn.datasets.base) is deprecated and will be removed in a future version.\n",
      "Instructions for updating:\n",
      "Please write your own downloading logic.\n",
      "WARNING:tensorflow:From D:\\ProgramData\\Anaconda3\\lib\\site-packages\\tensorflow\\contrib\\learn\\python\\learn\\datasets\\mnist.py:262: extract_images (from tensorflow.contrib.learn.python.learn.datasets.mnist) is deprecated and will be removed in a future version.\n",
      "Instructions for updating:\n",
      "Please use tf.data to implement this functionality.\n",
      "Extracting MNIST_data/train-images-idx3-ubyte.gz\n",
      "WARNING:tensorflow:From D:\\ProgramData\\Anaconda3\\lib\\site-packages\\tensorflow\\contrib\\learn\\python\\learn\\datasets\\mnist.py:267: extract_labels (from tensorflow.contrib.learn.python.learn.datasets.mnist) is deprecated and will be removed in a future version.\n",
      "Instructions for updating:\n",
      "Please use tf.data to implement this functionality.\n",
      "Extracting MNIST_data/train-labels-idx1-ubyte.gz\n",
      "WARNING:tensorflow:From D:\\ProgramData\\Anaconda3\\lib\\site-packages\\tensorflow\\contrib\\learn\\python\\learn\\datasets\\mnist.py:110: dense_to_one_hot (from tensorflow.contrib.learn.python.learn.datasets.mnist) is deprecated and will be removed in a future version.\n",
      "Instructions for updating:\n",
      "Please use tf.one_hot on tensors.\n",
      "Extracting MNIST_data/t10k-images-idx3-ubyte.gz\n",
      "Extracting MNIST_data/t10k-labels-idx1-ubyte.gz\n",
      "WARNING:tensorflow:From D:\\ProgramData\\Anaconda3\\lib\\site-packages\\tensorflow\\contrib\\learn\\python\\learn\\datasets\\mnist.py:290: DataSet.__init__ (from tensorflow.contrib.learn.python.learn.datasets.mnist) is deprecated and will be removed in a future version.\n",
      "Instructions for updating:\n",
      "Please use alternatives such as official/mnist/dataset.py from tensorflow/models.\n"
     ]
    }
   ],
   "source": [
    "mnist = input_data.read_data_sets(\"MNIST_data/\", one_hot=True)"
   ]
  },
  {
   "cell_type": "markdown",
   "metadata": {},
   "source": [
    "## 建立模型"
   ]
  },
  {
   "cell_type": "code",
   "execution_count": 4,
   "metadata": {},
   "outputs": [],
   "source": [
    "# define the fullly connect network\n",
    "def fcn_layer(inputs,\n",
    "             input_dim,\n",
    "             output_dim,\n",
    "             activation=None):\n",
    "    W = tf.Variable(tf.truncated_normal([input_dim, output_dim], stddev=0.1))\n",
    "    b = tf.Variable(tf.zeros([output_dim]))\n",
    "    XWB = tf.matmul(inputs, W) + b\n",
    "    if activation == None:\n",
    "        return XWB\n",
    "    return activation(XWB)    "
   ]
  },
  {
   "cell_type": "markdown",
   "metadata": {},
   "source": [
    "## 构建输入层"
   ]
  },
  {
   "cell_type": "code",
   "execution_count": 5,
   "metadata": {},
   "outputs": [],
   "source": [
    "x = tf.placeholder(tf.float32, [None, 28*28], name=\"X\")"
   ]
  },
  {
   "cell_type": "markdown",
   "metadata": {},
   "source": [
    "## 构建隐藏层"
   ]
  },
  {
   "cell_type": "code",
   "execution_count": 7,
   "metadata": {},
   "outputs": [
    {
     "name": "stdout",
     "output_type": "stream",
     "text": [
      "WARNING:tensorflow:From D:\\ProgramData\\Anaconda3\\lib\\site-packages\\tensorflow\\python\\framework\\op_def_library.py:263: colocate_with (from tensorflow.python.framework.ops) is deprecated and will be removed in a future version.\n",
      "Instructions for updating:\n",
      "Colocations handled automatically by placer.\n"
     ]
    }
   ],
   "source": [
    "# hidden layer contains 256 nueral\n",
    "h1=fcn_layer(inputs=x,\n",
    "             input_dim=28*28,\n",
    "             output_dim=256,\n",
    "             activation=tf.nn.relu)\n"
   ]
  },
  {
   "cell_type": "markdown",
   "metadata": {},
   "source": [
    "## 构建输出层"
   ]
  },
  {
   "cell_type": "code",
   "execution_count": 8,
   "metadata": {},
   "outputs": [],
   "source": [
    "forward = fcn_layer(inputs=h1,\n",
    "             input_dim=256,\n",
    "             output_dim=10,\n",
    "             activation=None)\n",
    "\n",
    "pred = tf.nn.softmax(forward)"
   ]
  },
  {
   "cell_type": "markdown",
   "metadata": {},
   "source": [
    "## 训练模型\n",
    "### 定义标签"
   ]
  },
  {
   "cell_type": "code",
   "execution_count": 9,
   "metadata": {},
   "outputs": [],
   "source": [
    "y = tf.placeholder(tf.float32, [None, 10], name = \"Y\")"
   ]
  },
  {
   "cell_type": "markdown",
   "metadata": {},
   "source": [
    "### 定义损失函数"
   ]
  },
  {
   "cell_type": "code",
   "execution_count": 11,
   "metadata": {},
   "outputs": [
    {
     "name": "stdout",
     "output_type": "stream",
     "text": [
      "WARNING:tensorflow:From <ipython-input-11-fcd28729a4df>:1: softmax_cross_entropy_with_logits (from tensorflow.python.ops.nn_ops) is deprecated and will be removed in a future version.\n",
      "Instructions for updating:\n",
      "\n",
      "Future major versions of TensorFlow will allow gradients to flow\n",
      "into the labels input on backprop by default.\n",
      "\n",
      "See `tf.nn.softmax_cross_entropy_with_logits_v2`.\n",
      "\n"
     ]
    }
   ],
   "source": [
    "loss_function = tf.reduce_mean(tf.nn.softmax_cross_entropy_with_logits(labels=y, logits=forward))"
   ]
  },
  {
   "cell_type": "markdown",
   "metadata": {},
   "source": [
    "### 设置训练参数"
   ]
  },
  {
   "cell_type": "code",
   "execution_count": 13,
   "metadata": {},
   "outputs": [],
   "source": [
    "train_epochs = 40\n",
    "batch_size = 50\n",
    "total_batch = mnist.train.num_examples // batch_size\n",
    "display_step = 1\n",
    "learning_rate = 0.01"
   ]
  },
  {
   "cell_type": "markdown",
   "metadata": {},
   "source": [
    "### 设置优化器"
   ]
  },
  {
   "cell_type": "code",
   "execution_count": 14,
   "metadata": {},
   "outputs": [],
   "source": [
    "optimizer = tf.train.AdamOptimizer(learning_rate).minimize(loss_function)"
   ]
  },
  {
   "cell_type": "markdown",
   "metadata": {},
   "source": [
    "### 定义准确率"
   ]
  },
  {
   "cell_type": "code",
   "execution_count": 15,
   "metadata": {},
   "outputs": [],
   "source": [
    "correct_predict = tf.equal(tf.argmax(pred, 1), tf.argmax(y, 1))\n",
    "accuracy = tf.reduce_mean(tf.cast(correct_predict, tf.float32))"
   ]
  },
  {
   "cell_type": "markdown",
   "metadata": {},
   "source": [
    "###  训练模型"
   ]
  },
  {
   "cell_type": "code",
   "execution_count": 17,
   "metadata": {},
   "outputs": [
    {
     "name": "stdout",
     "output_type": "stream",
     "text": [
      "epoch: 00 Loss: 0.159955770 Acc: 0.950999975\n",
      "epoch: 01 Loss: 0.160867453 Acc: 0.954400003\n",
      "epoch: 02 Loss: 0.143644154 Acc: 0.964200020\n",
      "epoch: 03 Loss: 0.183215335 Acc: 0.957000017\n",
      "epoch: 04 Loss: 0.197829440 Acc: 0.960799992\n",
      "epoch: 05 Loss: 0.193925411 Acc: 0.964200020\n",
      "epoch: 06 Loss: 0.176604524 Acc: 0.966600001\n",
      "epoch: 07 Loss: 0.202888712 Acc: 0.968999982\n",
      "epoch: 08 Loss: 0.205953315 Acc: 0.969200015\n",
      "epoch: 09 Loss: 0.256676257 Acc: 0.967199981\n",
      "epoch: 10 Loss: 0.209435552 Acc: 0.970799983\n",
      "epoch: 11 Loss: 0.215416357 Acc: 0.971800029\n",
      "epoch: 12 Loss: 0.245943725 Acc: 0.971599996\n",
      "epoch: 13 Loss: 0.255851209 Acc: 0.972999990\n",
      "epoch: 14 Loss: 0.269353181 Acc: 0.970200002\n",
      "epoch: 15 Loss: 0.333265811 Acc: 0.967599988\n",
      "epoch: 16 Loss: 0.258328259 Acc: 0.972400010\n",
      "epoch: 17 Loss: 0.312843859 Acc: 0.972999990\n",
      "epoch: 18 Loss: 0.402283877 Acc: 0.968800008\n",
      "epoch: 19 Loss: 0.371536911 Acc: 0.969799995\n",
      "epoch: 20 Loss: 0.306877434 Acc: 0.975000024\n",
      "epoch: 21 Loss: 0.310533941 Acc: 0.972999990\n",
      "epoch: 22 Loss: 0.407194525 Acc: 0.970799983\n",
      "epoch: 23 Loss: 0.393244475 Acc: 0.972599983\n",
      "epoch: 24 Loss: 0.502051175 Acc: 0.970000029\n",
      "epoch: 25 Loss: 0.397760093 Acc: 0.969799995\n",
      "epoch: 26 Loss: 0.393695533 Acc: 0.972800016\n",
      "epoch: 27 Loss: 0.502441823 Acc: 0.973800004\n",
      "epoch: 28 Loss: 0.451598197 Acc: 0.973999977\n",
      "epoch: 29 Loss: 0.455591857 Acc: 0.974399984\n",
      "epoch: 30 Loss: 0.481643170 Acc: 0.974600017\n",
      "epoch: 31 Loss: 0.524487019 Acc: 0.974399984\n",
      "epoch: 32 Loss: 0.558528781 Acc: 0.974200010\n",
      "epoch: 33 Loss: 0.522487104 Acc: 0.976599991\n",
      "epoch: 34 Loss: 0.573253930 Acc: 0.975399971\n",
      "epoch: 35 Loss: 0.688417196 Acc: 0.972000003\n",
      "epoch: 36 Loss: 0.541394234 Acc: 0.975399971\n",
      "epoch: 37 Loss: 0.609063208 Acc: 0.972599983\n",
      "epoch: 38 Loss: 0.593808591 Acc: 0.973800004\n",
      "epoch: 39 Loss: 0.567430854 Acc: 0.973200023\n"
     ]
    }
   ],
   "source": [
    "from time import time\n",
    "startTime = time()\n",
    "\n",
    "with tf.Session() as sess:\n",
    "    sess.run(tf.global_variables_initializer())\n",
    "    for epoch in range(train_epochs):\n",
    "        for batch in range(total_batch):\n",
    "            xs, ys = mnist.train.next_batch(batch_size)\n",
    "            sess.run(optimizer, feed_dict={x: xs, y: ys})\n",
    "            \n",
    "        loss, acc=sess.run([loss_function, accuracy],\n",
    "                           feed_dict={x:mnist.validation.images,\n",
    "                                     y:mnist.validation.labels})\n",
    "        \n",
    "        if epoch % display_step == 0:\n",
    "            print(\"epoch: %02d\" % epoch, \n",
    "                  \"Loss: {:.9f}\".format(loss),\n",
    "                  \"Acc: {:.9f}\".format(acc))"
   ]
  },
  {
   "cell_type": "code",
   "execution_count": null,
   "metadata": {},
   "outputs": [],
   "source": []
  }
 ],
 "metadata": {
  "kernelspec": {
   "display_name": "Python 3",
   "language": "python",
   "name": "python3"
  },
  "language_info": {
   "codemirror_mode": {
    "name": "ipython",
    "version": 3
   },
   "file_extension": ".py",
   "mimetype": "text/x-python",
   "name": "python",
   "nbconvert_exporter": "python",
   "pygments_lexer": "ipython3",
   "version": "3.7.1"
  }
 },
 "nbformat": 4,
 "nbformat_minor": 2
}
